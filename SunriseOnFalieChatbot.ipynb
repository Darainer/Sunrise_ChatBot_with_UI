{
  "cells": [
    {
      "cell_type": "markdown",
      "metadata": {
        "colab_type": "text",
        "id": "view-in-github"
      },
      "source": [
        "<a href=\"https://colab.research.google.com/github/Darainer/Sunbot/blob/main/SunriseOnFalieChatbot.ipynb\" target=\"_parent\"><img src=\"https://colab.research.google.com/assets/colab-badge.svg\" alt=\"Open In Colab\"/></a>"
      ]
    },
    {
      "cell_type": "markdown",
      "metadata": {
        "id": "oEqNhwn2FElq"
      },
      "source": [
        "Summary of resources used:\n",
        "\n"
      ]
    },
    {
      "cell_type": "code",
      "execution_count": 4,
      "metadata": {
        "colab": {
          "base_uri": "https://localhost:8080/"
        },
        "id": "TcO-cFyuOrkF",
        "outputId": "e0766f67-88ab-4f44-8296-fb838d43c43d"
      },
      "outputs": [],
      "source": [
        "# only needed if not running inside docker\n",
        "#!pip install langchain\n",
        "#!pip install unstructured\n",
        "#!pip install faiss-cpu\n",
        "#!pip install openai\n",
        "#!pip install tiktoken\n",
        "# %pip install python-dotenv"
      ]
    },
    {
      "cell_type": "code",
      "execution_count": 5,
      "metadata": {
        "id": "SUyxFzY9OrkK"
      },
      "outputs": [],
      "source": [
        "# mount my drive to hide API key -> this is a poor solution since it asks for authentication every time\n",
        "\n",
        "#import os\n",
        "#from google.colab import drive\n",
        "#drive.mount('/content/drive/MyDrive/Colab_share')\n",
        "# After executing the cell above, Drive\n",
        "# files will be present in \"/content/drive/My Drive\".\n",
        "#!ls \"/content/drive/My Drive\"\n",
        "#!source /content/drive/MyDrive/Colab_share/env_vars.sh"
      ]
    },
    {
      "cell_type": "code",
      "execution_count": 6,
      "metadata": {
        "colab": {
          "base_uri": "https://localhost:8080/"
        },
        "id": "QNPG9JflOrkK",
        "outputId": "73290a25-f657-4c4a-d179-646aa1fa8c22"
      },
      "outputs": [
        {
          "data": {
            "text/plain": [
              "['https://www.facebook.com/sunriseonfalie',\n",
              " 'https://www.instagram.com/sunriseonfalie/',\n",
              " 'https://www.sunriseonfalie.com.au/about-us/eco-story/',\n",
              " 'tel:0417 897 715',\n",
              " 'home/',\n",
              " 'contact-us-and-bookings/',\n",
              " 'our-apartments/',\n",
              " 'https://book-directonline.com/properties/sunriseonfaliedirect',\n",
              " 'javascript:void(0)',\n",
              " 'about-us/guest-reviews/',\n",
              " 'about-us/eco-story/',\n",
              " 'about-us/well-behaved-pets-are-welcome/',\n",
              " 'about-us/your-hosts/',\n",
              " 'about-us/our-story/',\n",
              " 'about-us/getting-to-sunrise-on-falie/',\n",
              " 'about-us/super-hosts-super-clean/',\n",
              " 'about-us/sunrise-photography/',\n",
              " 'useful-kangaroo-island-info',\n",
              " 'disability-friendly-accommodation',\n",
              " 'javascript:void(0)',\n",
              " 'kangaroo-island-itineraries/linger-longer/',\n",
              " 'kangaroo-island-itineraries/best-time-to-visit-ki/',\n",
              " 'kangaroo-island-photo-gallery',\n",
              " 'javascript:void(0)',\n",
              " 'kangaroo-island-attractions/experiences/',\n",
              " 'kangaroo-island-attractions/nature/',\n",
              " 'kangaroo-island-attractions/local-dining/',\n",
              " 'kangaroo-island-attractions/local-products/',\n",
              " 'kangaroo-island-attractions/local-artists-and-galleries/',\n",
              " 'https://www.sunriseonfalie.com.au/our-apartments/apartment-3-penthouse-retreat/',\n",
              " 'https://www.facebook.com/sunriseonfalie/',\n",
              " 'our-apartments/apartment-1-horizon',\n",
              " 'our-apartments/apartment-2-deluxe',\n",
              " 'our-apartments/apartment-3-penthouse-retreat',\n",
              " 'useful-kangaroo-island-info/wildlife',\n",
              " 'kangaroo-island-itineraries/linger-longer/3-day-2-night-getaway',\n",
              " 'kangaroo-island-photo-gallery',\n",
              " 'useful-kangaroo-island-info/eats',\n",
              " 'useful-kangaroo-island-info/township',\n",
              " 'useful-kangaroo-island-info/wildlife',\n",
              " 'useful-kangaroo-island-info/walks',\n",
              " 'useful-kangaroo-island-info/art',\n",
              " 'useful-kangaroo-island-info/fishing',\n",
              " 'useful-kangaroo-island-info/roads',\n",
              " 'useful-kangaroo-island-info/seasons',\n",
              " 'useful-kangaroo-island-info/locals',\n",
              " 'useful-kangaroo-island-info/cycling',\n",
              " 'useful-kangaroo-island-info/history',\n",
              " 'useful-kangaroo-island-info/regrowth',\n",
              " 'http://www.tourkangarooisland.com.au/',\n",
              " 'images/2020-09-03_094522_7ECCEB26-AA6E-48DC-9DD9-FEA7F100A052.jpg',\n",
              " 'images/2022-05-26_064503_IMG_8238w.jpeg',\n",
              " 'images/2022-10-16_062437_IMG_1207.jpg',\n",
              " 'images/2021-04-20_002958_IMG_4440.JPG',\n",
              " 'images/2021-04-20_003140_IMG_4414.JPG',\n",
              " 'images/2019-03-27_030401_fullsizeoutput_72e0.jpeg',\n",
              " 'images/2020-02-06_060941_fullsizeoutput_88cd.jpeg',\n",
              " 'images/2022-05-26_065004_IMG_1956 2.jpeg',\n",
              " 'images/2016-07-26_214123_Kangaroo Island South Australia Map - Sunrise on Falie Accommodation.jpg',\n",
              " 'images/2022-10-16_064446__DSC3997.jpeg  Nuts glossy1022.jpeg',\n",
              " '#',\n",
              " 'downloads/2020-05-11_043523_2020 Sunrise on Falie Kangaroo Island Accommodation leaflet.pdf',\n",
              " 'downloads/2020-05-11_043523_2020 Sunrise on Falie Kangaroo Island Accommodation leaflet.pdf',\n",
              " 'downloads/2020-01-22_025330_5913d6_9f9639a09a664b4c8d1b7f393306e08e.pdf',\n",
              " 'downloads/2020-01-22_025330_5913d6_9f9639a09a664b4c8d1b7f393306e08e.pdf',\n",
              " 'downloads/2021-04-01_065239_Kangaroo Island Visitor - Business Register.pdf',\n",
              " 'downloads/2021-04-01_065239_Kangaroo Island Visitor - Business Register.pdf',\n",
              " 'downloads/2020-01-28_064449_5913d6_48140073f613457980f2eea945abec48.pdf',\n",
              " 'downloads/2020-01-28_064449_5913d6_48140073f613457980f2eea945abec48.pdf',\n",
              " 'https://www.parks.sa.gov.au/parks/flinders-chase-national-park',\n",
              " 'https://kiboathire.com.au/',\n",
              " 'https://kangarooislandwildlifepark.com/',\n",
              " 'http://www.kangarooislandbirdsofprey.com.au/index.php',\n",
              " 'https://www.facebook.com/a.r.tellsastorygallery/',\n",
              " 'http://www.bayofshoalswines.com.au/home',\n",
              " 'https://kioutdooraction.com.au/kangaroo-island-activities-tours/quad-bike-tours/',\n",
              " 'https://littlesahara.com.au/',\n",
              " 'https://penneshawpenguincentre.com/',\n",
              " 'https://www.parks.sa.gov.au/parks/flinders-chase-national-park',\n",
              " '#',\n",
              " '#',\n",
              " 'copyright',\n",
              " 'privacy',\n",
              " 'terms-and-conditions',\n",
              " 'http://www.katron.com.au/portfolio/websites/website-design']"
            ]
          },
          "execution_count": 6,
          "metadata": {},
          "output_type": "execute_result"
        }
      ],
      "source": [
        "# scrape all the pages, for now manually downsampling the raw_url to a smaller subset\n",
        "import requests\n",
        "from bs4 import BeautifulSoup\n",
        "\n",
        "url = 'https://www.sunriseonfalie.com.au/'\n",
        "reqs = requests.get(url)\n",
        "soup = BeautifulSoup(reqs.text, 'html.parser')\n",
        "\n",
        "raw_urls = []\n",
        "for link in soup.find_all('a'):\n",
        "\traw_urls.append(link.get('href'))\n",
        "\n",
        "raw_urls"
      ]
    },
    {
      "cell_type": "code",
      "execution_count": 7,
      "metadata": {
        "id": "By5EQYKJU4rq"
      },
      "outputs": [],
      "source": [
        "urls= [\n",
        " 'https://www.sunriseonfalie.com.au/home/',\n",
        " 'https://www.sunriseonfalie.com.au/contact-us-and-bookings/',\n",
        " 'https://www.sunriseonfalie.com.au/our-apartments/',\n",
        " 'https://www.sunriseonfalie.com.au/about-us/guest-reviews/',\n",
        " 'https://www.sunriseonfalie.com.au/about-us/your-hosts/',\n",
        " 'https://www.sunriseonfalie.com.au/about-us/our-story/',\n",
        " 'https://www.sunriseonfalie.com.au/about-us/well-behaved-pets-are-welcome/',\n",
        " 'https://www.sunriseonfalie.com.au/about-us/eco-story/',\n",
        " 'https://www.sunriseonfalie.com.au/about-us/getting-to-sunrise-on-falie/',\n",
        " 'https://www.sunriseonfalie.com.au/about-us/super-hosts-super-clean/',\n",
        " 'https://www.sunriseonfalie.com.au/about-us/sunrise-photography/',\n",
        " 'https://www.sunriseonfalie.com.au/useful-kangaroo-island-info',\n",
        " 'https://www.sunriseonfalie.com.au/disability-friendly-accommodation',\n",
        " 'https://www.sunriseonfalie.com.au/kangaroo-island-itineraries/linger-longer/',\n",
        " 'https://www.sunriseonfalie.com.au/kangaroo-island-itineraries/best-time-to-visit-ki/',\n",
        " 'https://www.sunriseonfalie.com.au/kangaroo-island-itineraries/linger-longer/2-day-1-night-quick-visit',\n",
        " 'https://www.sunriseonfalie.com.au/kangaroo-island-itineraries/linger-longer/4-day-3-night-itinerary',\n",
        " 'https://www.sunriseonfalie.com.au/kangaroo-island-itineraries/linger-longer/5-day-4-night-exploration',\n",
        " 'https://www.sunriseonfalie.com.au/kangaroo-island-photo-gallery',\n",
        " 'https://www.sunriseonfalie.com.au/kangaroo-island-attractions/experiences/',\n",
        " 'https://www.sunriseonfalie.com.au/kangaroo-island-attractions/nature/',\n",
        " 'https://www.sunriseonfalie.com.au/kangaroo-island-attractions/local-dining/',\n",
        " 'https://www.sunriseonfalie.com.au/kangaroo-island-attractions/local-products/',\n",
        " 'https://www.sunriseonfalie.com.au/kangaroo-island-attractions/local-artists-and-galleries/',\n",
        " 'https://www.sunriseonfalie.com.au/our-apartments/apartment-1-horizon',\n",
        " 'https://www.sunriseonfalie.com.au/our-apartments/apartment-2-deluxe',\n",
        " 'https://www.sunriseonfalie.com.au/our-apartments/apartment-3-penthouse-retreat',\n",
        " 'https://www.sunriseonfalie.com.au/useful-kangaroo-island-info/fishing',\n",
        " 'https://www.sunriseonfalie.com.au/useful-kangaroo-island-info/eats',\n",
        " 'https://www.sunriseonfalie.com.au/useful-kangaroo-island-info/township',\n",
        " 'https://www.sunriseonfalie.com.au/useful-kangaroo-island-info/wildlife',\n",
        " 'https://www.sunriseonfalie.com.au/useful-kangaroo-island-info/walks',\n",
        " 'https://www.sunriseonfalie.com.au/useful-kangaroo-island-info/art',\n",
        " 'https://www.sunriseonfalie.com.au/useful-kangaroo-island-info/fishing',\n",
        " 'https://www.sunriseonfalie.com.au/useful-kangaroo-island-info/roads',\n",
        " 'https://www.sunriseonfalie.com.au/useful-kangaroo-island-info/seasons',\n",
        " 'https://www.sunriseonfalie.com.au/useful-kangaroo-island-info/locals',\n",
        " 'https://www.sunriseonfalie.com.au/useful-kangaroo-island-info/cycling',\n",
        " 'https://www.sunriseonfalie.com.au/useful-kangaroo-island-info/history',\n",
        " 'https://www.sunriseonfalie.com.au/useful-kangaroo-island-info/regrowth',\n",
        " 'https://www.sunriseonfalie.com.au/useful-kangaroo-island-info/kelly-hill-caves'\n",
        "]"
      ]
    },
    {
      "cell_type": "code",
      "execution_count": 8,
      "metadata": {
        "id": "ufoJUDGctuq_"
      },
      "outputs": [
        {
          "name": "stderr",
          "output_type": "stream",
          "text": [
            "[nltk_data] Downloading package punkt to /home/vscode/nltk_data...\n",
            "[nltk_data]   Unzipping tokenizers/punkt.zip.\n",
            "[nltk_data] Downloading package averaged_perceptron_tagger to\n",
            "[nltk_data]     /home/vscode/nltk_data...\n",
            "[nltk_data]   Unzipping taggers/averaged_perceptron_tagger.zip.\n"
          ]
        }
      ],
      "source": [
        "import nltk\n",
        "#nltk.download('punkt')\n",
        "#nltk.download('averaged_perceptron_tagger')\n",
        "\n",
        "from langchain.document_loaders import UnstructuredURLLoader\n",
        "loaders = UnstructuredURLLoader(urls=urls)\n",
        "data = loaders.load()"
      ]
    },
    {
      "cell_type": "code",
      "execution_count": 9,
      "metadata": {
        "id": "EPG-bMyROrkM"
      },
      "outputs": [],
      "source": [
        "#data"
      ]
    },
    {
      "cell_type": "code",
      "execution_count": 10,
      "metadata": {
        "colab": {
          "base_uri": "https://localhost:8080/"
        },
        "id": "4S5Ix7NqOrkN",
        "outputId": "8fbed4d8-59ad-4f5d-9fde-8d42185af485"
      },
      "outputs": [
        {
          "name": "stderr",
          "output_type": "stream",
          "text": [
            "Created a chunk of size 1119, which is longer than the specified 1000\n",
            "Created a chunk of size 1119, which is longer than the specified 1000\n"
          ]
        }
      ],
      "source": [
        "# Text Splitter\n",
        "from langchain.text_splitter import CharacterTextSplitter\n",
        "\n",
        "text_splitter = CharacterTextSplitter(separator='\\n',\n",
        "                                      chunk_size=1000,\n",
        "                                      chunk_overlap=200)\n",
        "\n",
        "\n",
        "docs = text_splitter.split_documents(data)"
      ]
    },
    {
      "cell_type": "code",
      "execution_count": 11,
      "metadata": {
        "id": "bGTLHHs-OrkN"
      },
      "outputs": [],
      "source": [
        "#docs"
      ]
    },
    {
      "cell_type": "code",
      "execution_count": 12,
      "metadata": {
        "colab": {
          "base_uri": "https://localhost:8080/"
        },
        "id": "YpPyEHmlOrkO",
        "outputId": "08bd7670-cff0-41c0-f14e-7cd54a84a31f"
      },
      "outputs": [
        {
          "data": {
            "text/plain": [
              "256"
            ]
          },
          "execution_count": 12,
          "metadata": {},
          "output_type": "execute_result"
        }
      ],
      "source": [
        "len(docs)"
      ]
    },
    {
      "cell_type": "markdown",
      "metadata": {},
      "source": [
        "Managing the OPENAI_API_KEY securely.  \n",
        "- Local use with .env file  \n",
        "- Codespace / Github actions use the \"secrets\" functionality to set the env variable."
      ]
    },
    {
      "cell_type": "code",
      "execution_count": 13,
      "metadata": {},
      "outputs": [],
      "source": [
        "from dotenv import load_dotenv\n",
        "import os\n",
        "\n",
        "# Check if the key is already in the environment (codespace and action secrets)\n",
        "if not os.environ.get(\"OPENAI_API_KEY\"):\n",
        "    # Try loading from .env file if on local dev environment\n",
        "    if not load_dotenv():\n",
        "        raise ValueError(\"OPENAI_API_KEY not found\")\n",
        "\n",
        "# define your own key here as an environment variable, if you are copying this. \n",
        "# os.environ[\"OPENAI_API_KEY\"] = \"Your_key_here********\""
      ]
    },
    {
      "cell_type": "code",
      "execution_count": 14,
      "metadata": {
        "id": "_RqVc8v0OrkP"
      },
      "outputs": [],
      "source": [
        "import pickle\n",
        "import faiss\n",
        "from langchain.vectorstores import FAISS\n",
        "from langchain.embeddings import OpenAIEmbeddings\n",
        "\n",
        "embeddings = OpenAIEmbeddings()"
      ]
    },
    {
      "cell_type": "code",
      "execution_count": 15,
      "metadata": {
        "id": "gmONKjHBOrkR"
      },
      "outputs": [],
      "source": [
        "vectorStore_openAI = FAISS.from_documents(docs, embeddings)\n",
        "\n",
        "with open(\"faiss_store_openai.pkl\", \"wb\") as f:\n",
        "       pickle.dump(vectorStore_openAI, f)"
      ]
    },
    {
      "cell_type": "code",
      "execution_count": 16,
      "metadata": {
        "id": "qrNyoE1zOrkR"
      },
      "outputs": [],
      "source": [
        "with open(\"faiss_store_openai.pkl\", \"rb\") as f:\n",
        "    VectorStore = pickle.load(f)"
      ]
    },
    {
      "cell_type": "code",
      "execution_count": 17,
      "metadata": {
        "colab": {
          "base_uri": "https://localhost:8080/"
        },
        "id": "4U0HnTpzOrkR",
        "outputId": "2dbff0ca-b027-4791-cdb1-25e9fb220230"
      },
      "outputs": [
        {
          "data": {
            "text/plain": [
              "<langchain.vectorstores.faiss.FAISS at 0x7f93bfe3bfd0>"
            ]
          },
          "execution_count": 17,
          "metadata": {},
          "output_type": "execute_result"
        }
      ],
      "source": [
        "VectorStore"
      ]
    },
    {
      "cell_type": "code",
      "execution_count": 18,
      "metadata": {
        "id": "PbIVkfdYOrkS"
      },
      "outputs": [],
      "source": [
        "from langchain.chains import RetrievalQAWithSourcesChain\n",
        "from langchain.chains.question_answering import load_qa_chain\n",
        "from langchain import OpenAI\n",
        "from langchain.memory import ConversationBufferMemory\n"
      ]
    },
    {
      "cell_type": "code",
      "execution_count": 19,
      "metadata": {
        "id": "j5cGfuvaOrkS"
      },
      "outputs": [],
      "source": [
        "llm=OpenAI(temperature=0, model_name='text-davinci-003')"
      ]
    },
    {
      "cell_type": "code",
      "execution_count": 20,
      "metadata": {
        "id": "eEvijxMr0BN8"
      },
      "outputs": [],
      "source": [
        "# llm"
      ]
    },
    {
      "cell_type": "code",
      "execution_count": 21,
      "metadata": {
        "id": "xFYmevOFOrkT"
      },
      "outputs": [],
      "source": [
        "chain = RetrievalQAWithSourcesChain.from_llm(llm=llm, retriever=VectorStore.as_retriever())"
      ]
    },
    {
      "cell_type": "markdown",
      "metadata": {
        "id": "rH_BFaKUO-33"
      },
      "source": [
        "The above sections create the model and give it the context of the website. The following section is some questions to test the understanding of the model"
      ]
    },
    {
      "cell_type": "markdown",
      "metadata": {
        "id": "tLfd24inGqir"
      },
      "source": [
        "We want to remember the conversation up to the context limit of the model"
      ]
    },
    {
      "cell_type": "code",
      "execution_count": 22,
      "metadata": {
        "id": "FRx32dDtGoah"
      },
      "outputs": [],
      "source": [
        "memory = ConversationBufferMemory()  # todo: get context limit of model"
      ]
    },
    {
      "cell_type": "code",
      "execution_count": 23,
      "metadata": {
        "colab": {
          "base_uri": "https://localhost:8080/"
        },
        "id": "BkyBl0CzOrkT",
        "outputId": "620ece3c-3d1a-48ef-8ba2-902995d77416"
      },
      "outputs": [
        {
          "data": {
            "text/plain": [
              "{'answer': ' It is not possible to determine which apartment at Sunrise on Falie has the best view.\\n',\n",
              " 'sources': 'https://www.sunriseonfalie.com.au/about-us/our-story/, https://www.sunriseonfalie.com.au/about-us/guest-reviews/, https://www.sunriseonfalie.com.au/kangaroo-island-photo-gallery'}"
            ]
          },
          "execution_count": 23,
          "metadata": {},
          "output_type": "execute_result"
        }
      ],
      "source": [
        "chain({\"question\": \"Which apartment at sunrise on Falie has the best view?\"}, return_only_outputs=True)\n"
      ]
    },
    {
      "cell_type": "code",
      "execution_count": 24,
      "metadata": {
        "colab": {
          "base_uri": "https://localhost:8080/"
        },
        "id": "NG7w-KaAOrkT",
        "outputId": "2f3216fa-2cbb-4167-b8c4-bac81276d417"
      },
      "outputs": [
        {
          "data": {
            "text/plain": [
              "{'answer': ' The best eating locations in American River are The Deck Café and local charter boats.\\n',\n",
              " 'sources': ''}"
            ]
          },
          "execution_count": 24,
          "metadata": {},
          "output_type": "execute_result"
        }
      ],
      "source": [
        "chain({\"question\": \"What are the best eating locations in american river\"}, return_only_outputs=True)"
      ]
    },
    {
      "cell_type": "code",
      "execution_count": 25,
      "metadata": {
        "colab": {
          "base_uri": "https://localhost:8080/"
        },
        "id": "RXEfsTVfOrkU",
        "outputId": "b1fa2381-7ff5-4d3a-835c-11ae3d287562"
      },
      "outputs": [
        {
          "data": {
            "text/plain": [
              "{'answer': ' Yes, you can swim in the water on Kangaroo Island at Stokes Bay, Island Beach and Emu Bay.\\n',\n",
              " 'sources': 'https://www.sunriseonfalie.com.au/home/, https://www.sunriseonfalie.com.au/kangaroo-island-itineraries/linger-longer/5-day-4-night-exploration'}"
            ]
          },
          "execution_count": 25,
          "metadata": {},
          "output_type": "execute_result"
        }
      ],
      "source": [
        "chain({\"question\": \"Can i swim in the water on kangaroo island\"}, return_only_outputs=True)"
      ]
    },
    {
      "cell_type": "code",
      "execution_count": 26,
      "metadata": {
        "colab": {
          "base_uri": "https://localhost:8080/"
        },
        "id": "faS7WigOOrkU",
        "outputId": "39e14e38-2c29-49b5-e9ce-7f07d1191111"
      },
      "outputs": [
        {
          "data": {
            "text/plain": [
              "{'answer': \" The best time to visit Kangaroo Island is July. It is not too cold (8-15C 46-59F) and it is when you might spot newborn roos and wallabies emerging from their mother's prouches.\\n\",\n",
              " 'sources': ''}"
            ]
          },
          "execution_count": 26,
          "metadata": {},
          "output_type": "execute_result"
        }
      ],
      "source": [
        "chain({\"question\": \"when is the best time to visit kangaroo island\"}, return_only_outputs=True)"
      ]
    },
    {
      "cell_type": "code",
      "execution_count": 27,
      "metadata": {
        "colab": {
          "base_uri": "https://localhost:8080/"
        },
        "id": "tuet8yiSOqqO",
        "outputId": "2a759540-f747-45df-9a5e-73a3e2581e39"
      },
      "outputs": [
        {
          "data": {
            "text/plain": [
              "{'answer': ' Yes, guests in wheelchairs can stay in this accommodation. The apartments are designed to be highly accessible for people in wheelchairs, with features such as ramp access, disability accessible bathrooms, wide halls and doorways, wide outdoor decks, floor to ceiling windows, and wheelchair-equipped bathrooms and kitchens.\\n',\n",
              " 'sources': ''}"
            ]
          },
          "execution_count": 27,
          "metadata": {},
          "output_type": "execute_result"
        }
      ],
      "source": [
        "chain({\"question\": \"i have a wheelchair, can i stay in this accomodation?\"}, return_only_outputs=True)"
      ]
    },
    {
      "cell_type": "code",
      "execution_count": 28,
      "metadata": {
        "colab": {
          "base_uri": "https://localhost:8080/"
        },
        "id": "1Vh5VFDCO2Sv",
        "outputId": "4ec7d098-cdb5-47aa-9c2b-e91f22e6d0b2"
      },
      "outputs": [
        {
          "data": {
            "text/plain": [
              "{'answer': ' Yes, you can bring your pet dog to stay with you at Sunrise on Falie, as long as it is well behaved and house trained, and you arrange the additional fee of $30 with the owner prior.\\n',\n",
              " 'sources': ''}"
            ]
          },
          "execution_count": 28,
          "metadata": {},
          "output_type": "execute_result"
        }
      ],
      "source": [
        "chain({\"question\": \"i have a pet dog, can i bring it to stay with me?\"}, return_only_outputs=True)"
      ]
    },
    {
      "cell_type": "code",
      "execution_count": 29,
      "metadata": {
        "colab": {
          "base_uri": "https://localhost:8080/"
        },
        "id": "_MkCRqU8DejE",
        "outputId": "56835ad8-2f8e-46bb-dd1e-199e1811e0e0"
      },
      "outputs": [
        {
          "data": {
            "text/plain": [
              "{'answer': ' Please refer to our shorter itineraries for suggestions, such as the 2 Day - 1 Night quick visit itinerary which suggests arriving by ferry or plane and exploring the island to maximize daylight sightseeing.\\n',\n",
              " 'sources': ''}"
            ]
          },
          "execution_count": 29,
          "metadata": {},
          "output_type": "execute_result"
        }
      ],
      "source": [
        "chain({\"question\": \"i have only 2 days, can you suggest an itenary?\"}, return_only_outputs=True)"
      ]
    },
    {
      "cell_type": "code",
      "execution_count": 30,
      "metadata": {
        "colab": {
          "base_uri": "https://localhost:8080/"
        },
        "id": "BTnCyCmaFoi9",
        "outputId": "ed465db1-71bf-4ac6-8271-8257b85824e8"
      },
      "outputs": [
        {
          "data": {
            "text/plain": [
              "{'answer': ' The contact details for Sunrise on Falie are to send an email.\\n',\n",
              " 'sources': ''}"
            ]
          },
          "execution_count": 30,
          "metadata": {},
          "output_type": "execute_result"
        }
      ],
      "source": [
        "chain({\"question\": \"what are the contact details for Sunrise on Falie?\"}, return_only_outputs=True)"
      ]
    },
    {
      "cell_type": "code",
      "execution_count": 31,
      "metadata": {
        "id": "3mtAth2jXNKO"
      },
      "outputs": [],
      "source": [
        "# todo: check if doc search is happening on the above queries. alternate format\n",
        "#query = \"who are the authors of the article?\"\n",
        "#docs = docsearch.similarity_search(query)\n",
        "#chain.run(input_documents=docs, question=query)"
      ]
    },
    {
      "cell_type": "code",
      "execution_count": 32,
      "metadata": {
        "id": "X2oQ06kQGTd3"
      },
      "outputs": [],
      "source": [
        "from langchain.memory import ConversationBufferMemory\n",
        "\n",
        "memory = ConversationBufferMemory()\n",
        "memory.chat_memory.add_user_message(\"hi!\")\n",
        "memory.chat_memory.add_ai_message(\"whats up?\")"
      ]
    }
  ],
  "metadata": {
    "colab": {
      "include_colab_link": true,
      "provenance": []
    },
    "kernelspec": {
      "display_name": "Python 3 (ipykernel)",
      "language": "python",
      "name": "python3"
    },
    "language_info": {
      "codemirror_mode": {
        "name": "ipython",
        "version": 3
      },
      "file_extension": ".py",
      "mimetype": "text/x-python",
      "name": "python",
      "nbconvert_exporter": "python",
      "pygments_lexer": "ipython3",
      "version": "3.11.6"
    },
    "orig_nbformat": 4
  },
  "nbformat": 4,
  "nbformat_minor": 0
}
